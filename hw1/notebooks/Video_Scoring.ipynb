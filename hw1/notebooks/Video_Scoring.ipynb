{
 "cells": [
  {
   "cell_type": "code",
   "execution_count": 1,
   "id": "4b94b2e0-3796-411b-ad82-1b56e7f89e1f",
   "metadata": {
    "editable": true,
    "slideshow": {
     "slide_type": ""
    },
    "tags": []
   },
   "outputs": [
    {
     "data": {
      "text/html": [
       "\n",
       "            <div>\n",
       "                <p><b>SparkSession - in-memory</b></p>\n",
       "                \n",
       "        <div>\n",
       "            <p><b>SparkContext</b></p>\n",
       "\n",
       "            <p><a href=\"http://e60c54fc1169:4040\">Spark UI</a></p>\n",
       "\n",
       "            <dl>\n",
       "              <dt>Version</dt>\n",
       "                <dd><code>v3.4.0</code></dd>\n",
       "              <dt>Master</dt>\n",
       "                <dd><code>local</code></dd>\n",
       "              <dt>AppName</dt>\n",
       "                <dd><code>pyspark-shell</code></dd>\n",
       "            </dl>\n",
       "        </div>\n",
       "        \n",
       "            </div>\n",
       "        "
      ],
      "text/plain": [
       "<pyspark.sql.session.SparkSession at 0xffff9dc81210>"
      ]
     },
     "execution_count": 1,
     "metadata": {},
     "output_type": "execute_result"
    }
   ],
   "source": [
    "import pyspark\n",
    "from pyspark.sql.functions import *\n",
    "from pyspark.sql.types import *\n",
    "from pyspark.sql import SparkSession\n",
    "\n",
    "spark = SparkSession.builder.master(\"local\") \\\n",
    "    .config('spark.sql.autoBroadcastJoinThreshold', 0) \\\n",
    "    .config('spark.sql.adaptive.enabled', 'false') \\\n",
    "    .getOrCreate()\n",
    "\n",
    "spark"
   ]
  },
  {
   "cell_type": "code",
   "execution_count": 2,
   "id": "1c2a19f1-09d4-433b-bb14-495e1f69bf43",
   "metadata": {},
   "outputs": [
    {
     "name": "stdout",
     "output_type": "stream",
     "text": [
      "+-----------+--------------------+-------------------+-----------+--------------------+-------+-----+--------+-------------+--------------------+-----+\n",
      "|   video_id|               title|      channel_title|category_id|                tags|  views|likes|dislikes|comment_total|      thumbnail_link| date|\n",
      "+-----------+--------------------+-------------------+-----------+--------------------+-------+-----+--------+-------------+--------------------+-----+\n",
      "|--JinobXWPk|DANGEROUS Jungle ...|   Brave Wilderness|         15|adventure|adventu...|1319945|38949|     533|         6768|https://i.ytimg.c...|20.10|\n",
      "|-1fzGnFwz9M|9 Things You Need...|        Simon's Cat|         15|cartoon|simons ca...| 189414| 7070|     112|          288|https://i.ytimg.c...|13.09|\n",
      "|-3AGlBYyLjo|Best Tom Petty In...|   CrazyLaughAction|         24|tom|petty|tom pet...|   2143|   16|       2|            4|https://i.ytimg.c...|06.10|\n",
      "|-3lMEZ6k5NA|170912 BTS singin...|        Kpop Plus01|         10|          170912 BTS| 201901|10034|     148|          591|https://i.ytimg.c...|15.09|\n",
      "|-5sCWsLlTCI|SNL Host Kumail N...|Saturday Night Live|         24|saturday night li...|  85052| 1458|      97|          132|https://i.ytimg.c...|14.10|\n",
      "|-6Zc8Co2H3w|Honest Trailers -...|     Screen Junkies|          1|screen junkies|sc...|1764868|46524|    1183|         6152|https://i.ytimg.c...|29.09|\n",
      "|-6Zc8Co2H3w|Honest Trailers -...|     Screen Junkies|          1|screen junkies|sc...|1547293|42960|    1075|         7498|https://i.ytimg.c...|28.09|\n",
      "|-6Zc8Co2H3w|Honest Trailers -...|     Screen Junkies|          1|screen junkies|sc...|1870380|48211|    1243|         6526|https://i.ytimg.c...|30.09|\n",
      "|-6Zc8Co2H3w|Honest Trailers -...|     Screen Junkies|          1|screen junkies|sc...|1956813|49656|    1287|         6894|https://i.ytimg.c...|01.10|\n",
      "|-AJyaVduxCc|Why Is Ayesha Cur...|   The Real Daytime|         24|the real|daytime|...| 326709| 1705|      60|          273|https://i.ytimg.c...|19.10|\n",
      "|-AJyaVduxCc|Why Is Ayesha Cur...|   The Real Daytime|         24|the real|daytime|...| 313279| 1660|      56|          123|https://i.ytimg.c...|18.10|\n",
      "|-AJyaVduxCc|Why Is Ayesha Cur...|   The Real Daytime|         24|the real|daytime|...| 334715| 1742|      62|          279|https://i.ytimg.c...|20.10|\n",
      "|-B9z3az6Axc|Halloween ASMR: S...|       Tyler Oakley|         24|tyler oakley|tyle...| 211177|16675|     417|         2539|https://i.ytimg.c...|15.10|\n",
      "|-B9z3az6Axc|Halloween ASMR: S...|       Tyler Oakley|         24|tyler oakley|tyle...| 106224|10782|     224|         2154|https://i.ytimg.c...|11.10|\n",
      "|-B9z3az6Axc|Halloween ASMR: S...|       Tyler Oakley|         24|tyler oakley|tyle...| 172671|14632|     359|         2379|https://i.ytimg.c...|12.10|\n",
      "|-B9z3az6Axc|Halloween ASMR: S...|       Tyler Oakley|         24|tyler oakley|tyle...| 192861|15692|     382|         2441|https://i.ytimg.c...|13.10|\n",
      "|-B9z3az6Axc|Halloween ASMR: S...|       Tyler Oakley|         24|tyler oakley|tyle...| 203723|16231|     396|         2515|https://i.ytimg.c...|14.10|\n",
      "|-C-LJUD2LWU|We Keep Voting De...|  The Liberty Hound|         25|watters candace o...|  44865| 2325|      39|          503|https://i.ytimg.c...|27.09|\n",
      "|-C-LJUD2LWU|We Keep Voting De...|  The Liberty Hound|         25|watters candace o...|  45580| 2348|      41|          504|https://i.ytimg.c...|28.09|\n",
      "|-CEuQhqNzz4|Goran Dragic & Lu...|           adamisTV|         17|slovenia|vs|servi...|  69131|  244|      15|          123|https://i.ytimg.c...|19.09|\n",
      "+-----------+--------------------+-------------------+-----------+--------------------+-------+-----+--------+-------------+--------------------+-----+\n",
      "only showing top 20 rows\n",
      "\n"
     ]
    }
   ],
   "source": [
    "videos = spark.read.option('header', 'true').option(\"inferSchema\", \"true\").csv('../datasets/USvideos.csv')\n",
    "videos.orderBy('video_id').show()"
   ]
  },
  {
   "cell_type": "code",
   "execution_count": 3,
   "id": "805005cc-0c92-45e3-ab79-44a348f9c2d3",
   "metadata": {},
   "outputs": [
    {
     "name": "stdout",
     "output_type": "stream",
     "text": [
      "+-----------+--------------------+-----+-------+\n",
      "|   video_id|        comment_text|likes|replies|\n",
      "+-----------+--------------------+-----+-------+\n",
      "|XpVt6Z1Gjjo|Logan Paul it's y...|    4|      0|\n",
      "|XpVt6Z1Gjjo|I've been followi...|    3|      0|\n",
      "|XpVt6Z1Gjjo|Say hi to Kong an...|    3|      0|\n",
      "|XpVt6Z1Gjjo| MY FAN . attendance|    3|      0|\n",
      "|XpVt6Z1Gjjo|         trending 😉|    3|      0|\n",
      "|XpVt6Z1Gjjo|#1 on trending AY...|    3|      0|\n",
      "|XpVt6Z1Gjjo|The end though 😭...|    4|      0|\n",
      "|XpVt6Z1Gjjo|#1 trending!!!!!!!!!|    3|      0|\n",
      "|XpVt6Z1Gjjo|Happy one year vl...|    3|      0|\n",
      "|XpVt6Z1Gjjo|You and your shit...|    0|      0|\n",
      "|XpVt6Z1Gjjo|There should be a...|    0|      0|\n",
      "|XpVt6Z1Gjjo|Dear Logan, I rea...|    0|      0|\n",
      "|XpVt6Z1Gjjo|Honestly Evan is ...|    0|      0|\n",
      "|XpVt6Z1Gjjo|Casey is still be...|    0|      0|\n",
      "|XpVt6Z1Gjjo|aw geez rick this...|    0|      0|\n",
      "|XpVt6Z1Gjjo|He happy cause he...|    0|      0|\n",
      "|XpVt6Z1Gjjo|Ayyyyoooo Logang ...|    1|      0|\n",
      "|XpVt6Z1Gjjo|Bro y didnt u giv...|    0|      0|\n",
      "|XpVt6Z1Gjjo|It's been fun wat...|    3|      0|\n",
      "|XpVt6Z1Gjjo|Made a lot of peo...|    0|      0|\n",
      "+-----------+--------------------+-----+-------+\n",
      "only showing top 20 rows\n",
      "\n"
     ]
    }
   ],
   "source": [
    "comments_schema = StructType([ \\\n",
    "    StructField(\"video_id\", StringType(), True), \\\n",
    "    StructField(\"comment_text\", StringType(), True), \\\n",
    "    StructField(\"likes\", IntegerType(), True), \\\n",
    "    StructField(\"replies\", IntegerType(), True)])\n",
    "comments = spark.read.option('header', 'true').option(\"mode\", \"DROPMALFORMED\").schema(comments_schema).csv('../datasets/UScomments.csv')\n",
    "comments.show()"
   ]
  },
  {
   "cell_type": "markdown",
   "id": "84014dd4-3a24-4340-8aba-a6196f349f07",
   "metadata": {},
   "source": [
    "## Задание 1"
   ]
  },
  {
   "cell_type": "code",
   "execution_count": 15,
   "id": "ba2c5d3a-473e-487c-9501-1659d34da266",
   "metadata": {},
   "outputs": [],
   "source": [
    "# Перезапишем исходный датасет с видео с применением бакетирования по video_id\n",
    "\n",
    "videos.write.bucketBy(16, 'video_id').saveAsTable('USvideos_bkt', format = 'parquet', mode = 'overwrite')\n",
    "videos_bkt = spark.table('USvideos_bkt')"
   ]
  },
  {
   "cell_type": "code",
   "execution_count": 16,
   "id": "81fd3192-e191-483e-a82b-870b4972bf2a",
   "metadata": {},
   "outputs": [],
   "source": [
    "# Считаем в датасете с видео количество просмотров, лайков, дизлайков и количества комментариев для каждого видео. \n",
    "# Сразу считаем значение скора по просмотрам как общее кол-во лайков минус общее кол-во дизлайков делить на общее кол-во просмотров (за все даты)\n",
    "\n",
    "videos_gr = videos_bkt.groupBy('video_id', 'title', 'channel_title', 'category_id', 'tags', 'thumbnail_link')\\\n",
    "                      .agg(sum('views').alias('views'),\n",
    "                           sum('likes').alias('likes'),\n",
    "                           sum('dislikes').alias('dislikes'),\n",
    "                           sum('comment_total').alias('comment_total'),\n",
    "                           round(((sum('likes') - sum('dislikes')) / sum('views')), 5).alias('score_view')\n",
    "                          )"
   ]
  },
  {
   "cell_type": "code",
   "execution_count": 17,
   "id": "5b271327-cfad-454a-865f-ebc508cc94eb",
   "metadata": {},
   "outputs": [
    {
     "name": "stdout",
     "output_type": "stream",
     "text": [
      "+-----------+--------------------+--------------------+-----------+--------------------+--------------------+--------+------+--------+-------------+----------+\n",
      "|   video_id|               title|       channel_title|category_id|                tags|      thumbnail_link|   views| likes|dislikes|comment_total|score_view|\n",
      "+-----------+--------------------+--------------------+-----------+--------------------+--------------------+--------+------+--------+-------------+----------+\n",
      "|zgLtEob6X-Q|Honest Trailers -...|      Screen Junkies|          1|screenjunkies|scr...|https://i.ytimg.c...| 8814577|211090|    6702|        27203|   0.02319|\n",
      "|B7YaMkCl3XA|Hurricane Irma de...|  Al Jazeera English|         25|5573051142001|ame...|https://i.ytimg.c...|  778973|  3078|     562|         2536|   0.00323|\n",
      "|6vGg-jJl30A|THIS MADE MY DAD ...|         Nile Wilson|         17|nile wilson|nile ...|https://i.ytimg.c...|  400025| 25087|     240|         1764|   0.06211|\n",
      "|bp6uJJJMaLs|Things you need t...|     Jenny Nicholson|          1|              [none]|https://i.ytimg.c...|  134435|  7593|     335|         1535|   0.05399|\n",
      "|Pp19TkIU_fw|Life of Kylie Rec...|    E! Entertainment|         24|Kylie Jenner|Real...|https://i.ytimg.c...|  389132|  4024|     537|          391|   0.00896|\n",
      "|u6iVspBWzZU|what is derealisa...|       doddlevloggle|         24|depersonalisation...|https://i.ytimg.c...|  325998| 40514|     159|         4127|   0.12379|\n",
      "|wGQtrwey-TI|SALTED EGG CRAB! ...|   Strictly Dumpling|         19|hawker center|haw...|https://i.ytimg.c...| 1268365| 26820|     988|         3543|   0.02037|\n",
      "|ykvX-E1nuag|How to Win Australia|        vlogbrothers|         22|australia|hank green|https://i.ytimg.c...|  350928| 18475|     332|         1757|    0.0517|\n",
      "|AR4UgRJOUQY|What Does Your Se...|         AsapSCIENCE|         28|Search History|De...|https://i.ytimg.c...| 1244953| 29748|    2639|         4112|   0.02178|\n",
      "|Zy6vBxqlapw|Kelly Clarkson - ...|      Kelly Clarkson|         10|Kelly Clarkson|Lo...|https://i.ytimg.c...| 3027926| 76505|    2880|         6414|   0.02432|\n",
      "|Lv5DFKceFac|Thomas Rhett - Sw...|     ThomasRhettVEVO|         10|Thomas|Rhett|Swee...|https://i.ytimg.c...|  376381|  8909|     170|          334|   0.02322|\n",
      "|9YyB6sQ4iwA|iPhone X and iPho...|            iJustine|         28|ijustine|iphone x...|https://i.ytimg.c...| 2024415| 75079|    4109|        15744|   0.03506|\n",
      "|IYvEhgYy35I|The xx - On Hold ...|              The xx|         10|the xx|music|on h...|https://i.ytimg.c...| 1072544| 35147|     604|         1909|   0.03221|\n",
      "|JZDM1bLn7sM|WHAT I WORE: NEW ...|        Amber Scholl|         26|lookobook|new yor...|https://i.ytimg.c...|  726485| 42328|     458|         4335|   0.05763|\n",
      "|tBN9kLaS-uw|My Boyfriend Buys...|        JennaMarbles|         23|jenna|marbles|mou...|https://i.ytimg.c...|14993333|975276|    9201|       101360|   0.06443|\n",
      "|bvim4rsNHkQ|How Not to Land a...|              SpaceX|         28|              [none]|https://i.ytimg.c...|14497859|425391|    3584|        30880|   0.02909|\n",
      "|zKriLekFPwg|Chris Young - Los...|      ChrisYoungVEVO|         10|Losing sleep vide...|https://i.ytimg.c...| 1218632| 25733|    1099|         1604|   0.02021|\n",
      "|4F2KWDQQMhY|Riverdale: Betwee...|    Madelaine Petsch|         22|madelaine|madelai...|https://i.ytimg.c...|  950155| 86352|     173|         6350|    0.0907|\n",
      "|z5eG8fD-hQw|DL HUGHLEY ON ESP...|            MoorInfo|         22|dr boyce watkins|...|https://i.ytimg.c...|  710521| 12871|    1708|         6518|   0.01571|\n",
      "|FfRGxN2zeWU|Angelica Hale: 10...|America's Got Talent|         24|America's Got Tal...|https://i.ytimg.c...| 8422888|147182|    6038|        18740|   0.01676|\n",
      "+-----------+--------------------+--------------------+-----------+--------------------+--------------------+--------+------+--------+-------------+----------+\n",
      "only showing top 20 rows\n",
      "\n"
     ]
    }
   ],
   "source": [
    "videos_gr.show()"
   ]
  },
  {
   "cell_type": "code",
   "execution_count": 18,
   "id": "d4f4e708-d12f-4939-b5a7-4ab0a6dbc772",
   "metadata": {},
   "outputs": [],
   "source": [
    "# Перезапишем исходный датасет с комментариями с применением бакетирования по video_id\n",
    "\n",
    "comments.write.bucketBy(16, 'video_id').saveAsTable('USComments_bkt', format = 'parquet', mode = 'overwrite')\n",
    "comments_bkt = spark.table('USComments_bkt')"
   ]
  },
  {
   "cell_type": "code",
   "execution_count": 19,
   "id": "fa87ad05-75c5-4ff1-835e-ffee294f1912",
   "metadata": {},
   "outputs": [],
   "source": [
    "# Считаем в датасете с комментариямидля каждого видео количество лайков и ответов на комментарии. \n",
    "\n",
    "comments_gr = comments_bkt.groupBy('video_id').agg(sum('likes').alias('comment_likes'),\n",
    "                                                   sum('replies').alias('comment_replies')\n",
    "                                                   )"
   ]
  },
  {
   "cell_type": "code",
   "execution_count": 20,
   "id": "25ec7d11-4d45-42ba-971f-6046e691b830",
   "metadata": {},
   "outputs": [],
   "source": [
    "# Объединяем сгруппированные датасеты (оптимизация на основе предварительной записи с бакетированием), \n",
    "# считаем значение скора по комментариям и итоговый скор как произведение скоров по просмотрам и по комментариям,\n",
    "# итоговое значение умножаем на 100000 для наглядности\n",
    "\n",
    "videos_all = videos_gr.join(comments_gr,'video_id', 'left').fillna(0)\\\n",
    "                      .withColumn('score_comment', round(col('comment_likes')/(col('comment_total') + col('comment_replies')), 5))\\\n",
    "                      .withColumn('score', (round(col('score_view')*col('score_comment'), 5) * 100000).cast('int'))"
   ]
  },
  {
   "cell_type": "code",
   "execution_count": 21,
   "id": "952390d6-62f9-4067-bd26-31161ece5f60",
   "metadata": {},
   "outputs": [
    {
     "name": "stdout",
     "output_type": "stream",
     "text": [
      "+-----------+--------------------+--------------------+-----------+--------------------+--------------------+-----+\n",
      "|   video_id|               title|       channel_title|category_id|                tags|      thumbnail_link|score|\n",
      "+-----------+--------------------+--------------------+-----------+--------------------+--------------------+-----+\n",
      "|4F2KWDQQMhY|Riverdale: Betwee...|    Madelaine Petsch|         22|madelaine|madelai...|https://i.ytimg.c...|   90|\n",
      "|5eSSL8hRU_E|Kelly Clarkson Ta...|    Z100 is New York|         10|kelly clarkson|lo...|https://i.ytimg.c...| 2635|\n",
      "|6vGg-jJl30A|THIS MADE MY DAD ...|         Nile Wilson|         17|nile wilson|nile ...|https://i.ytimg.c...|   46|\n",
      "|9YyB6sQ4iwA|iPhone X and iPho...|            iJustine|         28|ijustine|iphone x...|https://i.ytimg.c...|   82|\n",
      "|AR4UgRJOUQY|What Does Your Se...|         AsapSCIENCE|         28|Search History|De...|https://i.ytimg.c...|   14|\n",
      "|B7YaMkCl3XA|Hurricane Irma de...|  Al Jazeera English|         25|5573051142001|ame...|https://i.ytimg.c...|    8|\n",
      "|FfRGxN2zeWU|Angelica Hale: 10...|America's Got Talent|         24|America's Got Tal...|https://i.ytimg.c...|   42|\n",
      "|IYvEhgYy35I|The xx - On Hold ...|              The xx|         10|the xx|music|on h...|https://i.ytimg.c...|  286|\n",
      "|JZDM1bLn7sM|WHAT I WORE: NEW ...|        Amber Scholl|         26|lookobook|new yor...|https://i.ytimg.c...|   12|\n",
      "|Lv5DFKceFac|Thomas Rhett - Sw...|     ThomasRhettVEVO|         10|Thomas|Rhett|Swee...|https://i.ytimg.c...|  251|\n",
      "|Pp19TkIU_fw|Life of Kylie Rec...|    E! Entertainment|         24|Kylie Jenner|Real...|https://i.ytimg.c...| 3336|\n",
      "|Zy6vBxqlapw|Kelly Clarkson - ...|      Kelly Clarkson|         10|Kelly Clarkson|Lo...|https://i.ytimg.c...|   22|\n",
      "|bp6uJJJMaLs|Things you need t...|     Jenny Nicholson|          1|              [none]|https://i.ytimg.c...| 2217|\n",
      "|bvim4rsNHkQ|How Not to Land a...|              SpaceX|         28|              [none]|https://i.ytimg.c...|    6|\n",
      "|tBN9kLaS-uw|My Boyfriend Buys...|        JennaMarbles|         23|jenna|marbles|mou...|https://i.ytimg.c...|    5|\n",
      "|u6iVspBWzZU|what is derealisa...|       doddlevloggle|         24|depersonalisation...|https://i.ytimg.c...|   45|\n",
      "|wGQtrwey-TI|SALTED EGG CRAB! ...|   Strictly Dumpling|         19|hawker center|haw...|https://i.ytimg.c...|  432|\n",
      "|ykvX-E1nuag|How to Win Australia|        vlogbrothers|         22|australia|hank green|https://i.ytimg.c...|    6|\n",
      "|z5eG8fD-hQw|DL HUGHLEY ON ESP...|            MoorInfo|         22|dr boyce watkins|...|https://i.ytimg.c...|    6|\n",
      "|zKriLekFPwg|Chris Young - Los...|      ChrisYoungVEVO|         10|Losing sleep vide...|https://i.ytimg.c...|  558|\n",
      "+-----------+--------------------+--------------------+-----------+--------------------+--------------------+-----+\n",
      "only showing top 20 rows\n",
      "\n"
     ]
    }
   ],
   "source": [
    "scored_videos = videos_all.select('video_id', 'title', 'channel_title', 'category_id', 'tags', 'thumbnail_link', 'score')\n",
    "\n",
    "scored_videos.show()"
   ]
  },
  {
   "cell_type": "markdown",
   "id": "92031ee2-8b37-4083-a704-9c86690be9df",
   "metadata": {},
   "source": [
    "## Задание 2"
   ]
  },
  {
   "cell_type": "code",
   "execution_count": 102,
   "id": "49279feb-fabf-4214-8e0b-082fad870b31",
   "metadata": {},
   "outputs": [],
   "source": [
    "# Читаем json\n",
    "\n",
    "categories = spark.read.format('json').option('multiline', 'true').load('../datasets/US_category_id.json').select(inline_outer('items'))"
   ]
  },
  {
   "cell_type": "code",
   "execution_count": 103,
   "id": "0b82db6c-a875-442d-ad13-005139bc6153",
   "metadata": {},
   "outputs": [],
   "source": [
    "# Вытаскиваем id категории и название\n",
    "\n",
    "categories = categories.select(categories.id.alias('category_id'), categories.snippet.title.alias('title'))"
   ]
  },
  {
   "cell_type": "code",
   "execution_count": 11,
   "id": "09b36034-07ac-41ef-989a-a89249368ea4",
   "metadata": {},
   "outputs": [
    {
     "name": "stdout",
     "output_type": "stream",
     "text": [
      "+-----------+--------------------+\n",
      "|category_id|               title|\n",
      "+-----------+--------------------+\n",
      "|          1|    Film & Animation|\n",
      "|          2|    Autos & Vehicles|\n",
      "|         10|               Music|\n",
      "|         15|      Pets & Animals|\n",
      "|         17|              Sports|\n",
      "|         18|        Short Movies|\n",
      "|         19|     Travel & Events|\n",
      "|         20|              Gaming|\n",
      "|         21|       Videoblogging|\n",
      "|         22|      People & Blogs|\n",
      "|         23|              Comedy|\n",
      "|         24|       Entertainment|\n",
      "|         25|     News & Politics|\n",
      "|         26|       Howto & Style|\n",
      "|         27|           Education|\n",
      "|         28|Science & Technology|\n",
      "|         29|Nonprofits & Acti...|\n",
      "|         30|              Movies|\n",
      "|         31|     Anime/Animation|\n",
      "|         32|    Action/Adventure|\n",
      "+-----------+--------------------+\n",
      "only showing top 20 rows\n",
      "\n"
     ]
    }
   ],
   "source": [
    "categories.show()"
   ]
  },
  {
   "cell_type": "code",
   "execution_count": 114,
   "id": "03800e00-4f95-422a-b227-51f5b333e749",
   "metadata": {},
   "outputs": [],
   "source": [
    "# UDF-функция для вычисления медианы. На вход получает сгруппированный датафрейм\n",
    "\n",
    "@pandas_udf('category_id int, score int', PandasUDFType.GROUPED_MAP)\n",
    "def compute_median(pdf):\n",
    "    return pdf.assign(score = pdf.score.median())"
   ]
  },
  {
   "cell_type": "code",
   "execution_count": 118,
   "id": "7ac247a4-7dde-4e17-abbe-e787a83c76bb",
   "metadata": {},
   "outputs": [],
   "source": [
    "# Применяем функцию к датафрейму\n",
    "\n",
    "scored_categories = scored_videos.select('category_id', 'score').groupBy('category_id').apply(compute_median).dropDuplicates().withColumnRenamed('score', 'median_score')"
   ]
  },
  {
   "cell_type": "code",
   "execution_count": 116,
   "id": "bb92fd7c-3c06-421e-aec4-a51f24753292",
   "metadata": {},
   "outputs": [
    {
     "name": "stdout",
     "output_type": "stream",
     "text": [
      "+-----------+------------+\n",
      "|category_id|median_score|\n",
      "+-----------+------------+\n",
      "|         17|          89|\n",
      "|          1|         227|\n",
      "|         25|          27|\n",
      "|         23|          38|\n",
      "|         26|         300|\n",
      "|         22|         101|\n",
      "|         19|         172|\n",
      "|          2|         150|\n",
      "|         20|          43|\n",
      "|         28|          91|\n",
      "|         29|        1246|\n",
      "|         27|         219|\n",
      "|         43|        1494|\n",
      "|         15|         304|\n",
      "|         24|          93|\n",
      "|         10|         183|\n",
      "+-----------+------------+\n",
      "\n"
     ]
    }
   ],
   "source": [
    "scored_categories.show()"
   ]
  },
  {
   "cell_type": "code",
   "execution_count": 120,
   "id": "3d61d048-a735-4fb2-8a34-2bd4553ff847",
   "metadata": {},
   "outputs": [],
   "source": [
    "# Приджойниваем названия категорий. Т.к. датасет с названиями маленький, то присоединяем его броадкастом.\n",
    "\n",
    "scored_categories = scored_categories.join(broadcast(categories), 'category_id', 'inner').select('title', 'median_score')"
   ]
  },
  {
   "cell_type": "code",
   "execution_count": 121,
   "id": "7e91ce7c-2994-44ca-abb6-fcaf0ca760c2",
   "metadata": {},
   "outputs": [
    {
     "name": "stdout",
     "output_type": "stream",
     "text": [
      "+---------------------+------------+\n",
      "|title                |median_score|\n",
      "+---------------------+------------+\n",
      "|Shows                |1494        |\n",
      "|Nonprofits & Activism|1246        |\n",
      "|Pets & Animals       |304         |\n",
      "|Howto & Style        |300         |\n",
      "|Film & Animation     |227         |\n",
      "|Education            |219         |\n",
      "|Music                |183         |\n",
      "|Travel & Events      |172         |\n",
      "|Autos & Vehicles     |150         |\n",
      "|People & Blogs       |101         |\n",
      "|Entertainment        |93          |\n",
      "|Science & Technology |91          |\n",
      "|Sports               |89          |\n",
      "|Gaming               |43          |\n",
      "|Comedy               |38          |\n",
      "|News & Politics      |27          |\n",
      "+---------------------+------------+\n",
      "\n"
     ]
    }
   ],
   "source": [
    "scored_categories.orderBy(desc('median_score')).show(truncate=False)"
   ]
  },
  {
   "cell_type": "markdown",
   "id": "625acbda-f5a4-4eee-a50b-c8573d8818e8",
   "metadata": {},
   "source": [
    "## Задание 3"
   ]
  },
  {
   "cell_type": "code",
   "execution_count": 78,
   "id": "129da739-70b8-4bad-9820-e451f0398df9",
   "metadata": {},
   "outputs": [],
   "source": [
    "import pandas as pd\n",
    "import timeit"
   ]
  },
  {
   "cell_type": "code",
   "execution_count": 128,
   "id": "c7e8c2e5-08aa-4205-98e0-7edc19ff61fd",
   "metadata": {},
   "outputs": [
    {
     "name": "stdout",
     "output_type": "stream",
     "text": [
      "Время выполнения UDF на Scala: 0.08486641698982567 сек\n"
     ]
    }
   ],
   "source": [
    "# UDF-функция для разбиения колонки с тэгами на Scala\n",
    "\n",
    "from pyspark.sql.column import Column, _to_java_column, _to_seq\n",
    "\n",
    "sc = spark.sparkContext\n",
    "\n",
    "def udfSplitTagsScalaWraper(tags):\n",
    "    _udf = sc._jvm.CustomUDFs.splitTagsUDF()\n",
    "    return Column(_udf.apply(_to_seq(sc, [tags], _to_java_column)))\n",
    "\n",
    "splited_tags = videos.select('tags', udfSplitTagsScalaWraper(col('tags')).alias('tags'))\n",
    "\n",
    "print(f\"Время выполнения UDF на Scala: {timeit.timeit('splited_tags.count()', number=1, globals=globals())} сек\")"
   ]
  },
  {
   "cell_type": "code",
   "execution_count": 127,
   "id": "1c383dbf-fc6b-4941-a0d3-c55e818bcaa9",
   "metadata": {},
   "outputs": [
    {
     "name": "stdout",
     "output_type": "stream",
     "text": [
      "Время выполнения UDF на Python: 0.05377666593994945  сек\n"
     ]
    }
   ],
   "source": [
    "# UDF-функция для разбиения колонки с тэгами на Python\n",
    "\n",
    "@pandas_udf(ArrayType(StringType()), PandasUDFType.SCALAR)\n",
    "def split_tags(tags):\n",
    "    return tags.str.split('|')\n",
    "\n",
    "splited_tags = videos.select(split_tags('tags').alias('tags'))\n",
    "\n",
    "print(f\"Время выполнения UDF на Python: {timeit.timeit('splited_tags.count()', number=1, globals=globals())}  сек\")"
   ]
  },
  {
   "cell_type": "code",
   "execution_count": 129,
   "id": "1b5a41e8-34d7-41bd-be50-65d50960fdda",
   "metadata": {},
   "outputs": [],
   "source": [
    "# Применияем UDF-функцию для разбиения колонки с тэгами, для каждого тэга создаём отдельную запись\n",
    "\n",
    "videos_tags = videos.select('video_id', explode_outer(split_tags('tags')).alias('tags'))"
   ]
  },
  {
   "cell_type": "code",
   "execution_count": 130,
   "id": "44f03236-6675-4441-995e-0e6a623fe6a4",
   "metadata": {},
   "outputs": [
    {
     "name": "stdout",
     "output_type": "stream",
     "text": [
      "+-----------+----------+\n",
      "|       tags|sum_videos|\n",
      "+-----------+----------+\n",
      "|      funny|       217|\n",
      "|     comedy|       163|\n",
      "|     [none]|       146|\n",
      "|       2017|        93|\n",
      "|      humor|        92|\n",
      "|     how to|        84|\n",
      "|     makeup|        77|\n",
      "|      music|        74|\n",
      "|       vlog|        73|\n",
      "|      video|        72|\n",
      "|  interview|        70|\n",
      "|   tutorial|        69|\n",
      "|  celebrity|        64|\n",
      "|     review|        61|\n",
      "|       news|        61|\n",
      "|celebrities|        59|\n",
      "|     beauty|        58|\n",
      "|       food|        57|\n",
      "|    science|        56|\n",
      "|   comedian|        55|\n",
      "+-----------+----------+\n",
      "only showing top 20 rows\n",
      "\n"
     ]
    }
   ],
   "source": [
    "# Считаем количество уникальных видео для каждого тэга, выводим результат в порядке убывания популярности тэгов\n",
    "\n",
    "popular_tags = videos_tags.distinct().groupBy('tags').agg(count('video_id').alias('sum_videos')).orderBy(col('sum_videos').desc()).show()"
   ]
  },
  {
   "cell_type": "markdown",
   "id": "e2fee8df-7859-4911-be70-37602e59ae7d",
   "metadata": {},
   "source": [
    "## Задание 4"
   ]
  },
  {
   "cell_type": "code",
   "execution_count": 25,
   "id": "591c829c-421b-4800-aee8-5235d71a346d",
   "metadata": {},
   "outputs": [
    {
     "data": {
      "text/plain": [
       "11"
      ]
     },
     "execution_count": 25,
     "metadata": {},
     "output_type": "execute_result"
    }
   ],
   "source": [
    "# Фильтруем бакетированный датасет с видео по тэгу cat через регулярное выражение (выбираем в данном случае только отдельно стоящий регистрозависимый тэг \"cat\"), убираем дубликаты\n",
    "\n",
    "video_cats = videos_bkt.filter(regexp_extract('tags', r'\\|cat\\|', 0) != '').select('video_id').distinct()\n",
    "video_cats.count()"
   ]
  },
  {
   "cell_type": "code",
   "execution_count": 26,
   "id": "0941fd23-2783-4dda-8896-85060206044c",
   "metadata": {},
   "outputs": [],
   "source": [
    "# К отфильтрованному датасету с видео джойним датасет с комментариями, используем броадкаст для video_cats,\n",
    "# группируем по видео и комментариям, считаем количество лайков, сортируем и выводим 5 комменариев с самым большим количеством лайков\n",
    "\n",
    "video_cats = broadcast(video_cats)\n",
    "top_5_comments = comments.join(video_cats, 'video_id', 'inner')\\\n",
    "                         .groupBy('video_id', 'comment_text')\\\n",
    "                         .agg(sum('likes').alias('likes'),\n",
    "                              sum('replies').alias('replies'))\\\n",
    "                         .orderBy(desc('likes'))\\\n",
    "                         .limit(5)"
   ]
  },
  {
   "cell_type": "code",
   "execution_count": 27,
   "id": "4a0a2698-06de-48e6-a4f1-7af7fc19ba63",
   "metadata": {},
   "outputs": [
    {
     "name": "stdout",
     "output_type": "stream",
     "text": [
      "+-----------+------------------------------------------------------------------------------------------------------+-----+-------+\n",
      "|video_id   |comment_text                                                                                          |likes|replies|\n",
      "+-----------+------------------------------------------------------------------------------------------------------+-----+-------+\n",
      "|tp9aQXDFHbY|Make sure to check back next Friday as we are launching our brand new animated HALLOWEEN special! 🐱🕷|1329 |162    |\n",
      "|-1fzGnFwz9M|I make interesting cartoons and I need your help! Go to the channel, rate my work!                    |839  |5      |\n",
      "|tp9aQXDFHbY|1:51 so your nuts are your most prized possession?                                                    |121  |8      |\n",
      "|Vjc459T6wX8|How does Mugumogu not collapse in a heap of laughter?!! Maru's liquified form is hilarious!           |50   |7      |\n",
      "|tp9aQXDFHbY|If Simon will be make animation movie of Simons Cat adventures, I’ll go cinemas to watch it 😻        |37   |1      |\n",
      "+-----------+------------------------------------------------------------------------------------------------------+-----+-------+\n",
      "\n"
     ]
    }
   ],
   "source": [
    "top_5_comments.show(truncate=False)"
   ]
  },
  {
   "cell_type": "code",
   "execution_count": 28,
   "id": "7abfe5f9-5666-4396-bae2-b95a89c51b57",
   "metadata": {},
   "outputs": [],
   "source": [
    "spark.stop()"
   ]
  },
  {
   "cell_type": "code",
   "execution_count": null,
   "id": "934e450d-1cff-47e9-bc40-7c227ba12f7d",
   "metadata": {},
   "outputs": [],
   "source": []
  }
 ],
 "metadata": {
  "kernelspec": {
   "display_name": "Python 3 (ipykernel)",
   "language": "python",
   "name": "python3"
  },
  "language_info": {
   "codemirror_mode": {
    "name": "ipython",
    "version": 3
   },
   "file_extension": ".py",
   "mimetype": "text/x-python",
   "name": "python",
   "nbconvert_exporter": "python",
   "pygments_lexer": "ipython3",
   "version": "3.11.3"
  }
 },
 "nbformat": 4,
 "nbformat_minor": 5
}
