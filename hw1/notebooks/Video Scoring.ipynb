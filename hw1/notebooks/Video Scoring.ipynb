{
 "cells": [
  {
   "cell_type": "code",
   "execution_count": 1,
   "id": "4b94b2e0-3796-411b-ad82-1b56e7f89e1f",
   "metadata": {
    "editable": true,
    "slideshow": {
     "slide_type": ""
    },
    "tags": []
   },
   "outputs": [
    {
     "data": {
      "text/html": [
       "\n",
       "            <div>\n",
       "                <p><b>SparkSession - in-memory</b></p>\n",
       "                \n",
       "        <div>\n",
       "            <p><b>SparkContext</b></p>\n",
       "\n",
       "            <p><a href=\"http://e60c54fc1169:4040\">Spark UI</a></p>\n",
       "\n",
       "            <dl>\n",
       "              <dt>Version</dt>\n",
       "                <dd><code>v3.4.0</code></dd>\n",
       "              <dt>Master</dt>\n",
       "                <dd><code>local</code></dd>\n",
       "              <dt>AppName</dt>\n",
       "                <dd><code>pyspark-shell</code></dd>\n",
       "            </dl>\n",
       "        </div>\n",
       "        \n",
       "            </div>\n",
       "        "
      ],
      "text/plain": [
       "<pyspark.sql.session.SparkSession at 0xffffb4621210>"
      ]
     },
     "execution_count": 1,
     "metadata": {},
     "output_type": "execute_result"
    }
   ],
   "source": [
    "import pyspark\n",
    "from pyspark.sql.functions import *\n",
    "from pyspark.sql.types import *\n",
    "from pyspark.sql import SparkSession\n",
    "\n",
    "spark = SparkSession.builder.master(\"local\") \\\n",
    "    .config('spark.sql.autoBroadcastJoinThreshold', 0) \\\n",
    "    .config('spark.sql.adaptive.enabled', 'false') \\\n",
    "    .getOrCreate()\n",
    "\n",
    "spark"
   ]
  },
  {
   "cell_type": "code",
   "execution_count": 2,
   "id": "1c2a19f1-09d4-433b-bb14-495e1f69bf43",
   "metadata": {},
   "outputs": [
    {
     "name": "stdout",
     "output_type": "stream",
     "text": [
      "+-----------+--------------------+-------------------+-----------+--------------------+-------+-----+--------+-------------+--------------------+-----+\n",
      "|   video_id|               title|      channel_title|category_id|                tags|  views|likes|dislikes|comment_total|      thumbnail_link| date|\n",
      "+-----------+--------------------+-------------------+-----------+--------------------+-------+-----+--------+-------------+--------------------+-----+\n",
      "|--JinobXWPk|DANGEROUS Jungle ...|   Brave Wilderness|         15|adventure|adventu...|1319945|38949|     533|         6768|https://i.ytimg.c...|20.10|\n",
      "|-1fzGnFwz9M|9 Things You Need...|        Simon's Cat|         15|cartoon|simons ca...| 189414| 7070|     112|          288|https://i.ytimg.c...|13.09|\n",
      "|-3AGlBYyLjo|Best Tom Petty In...|   CrazyLaughAction|         24|tom|petty|tom pet...|   2143|   16|       2|            4|https://i.ytimg.c...|06.10|\n",
      "|-3lMEZ6k5NA|170912 BTS singin...|        Kpop Plus01|         10|          170912 BTS| 201901|10034|     148|          591|https://i.ytimg.c...|15.09|\n",
      "|-5sCWsLlTCI|SNL Host Kumail N...|Saturday Night Live|         24|saturday night li...|  85052| 1458|      97|          132|https://i.ytimg.c...|14.10|\n",
      "|-6Zc8Co2H3w|Honest Trailers -...|     Screen Junkies|          1|screen junkies|sc...|1764868|46524|    1183|         6152|https://i.ytimg.c...|29.09|\n",
      "|-6Zc8Co2H3w|Honest Trailers -...|     Screen Junkies|          1|screen junkies|sc...|1547293|42960|    1075|         7498|https://i.ytimg.c...|28.09|\n",
      "|-6Zc8Co2H3w|Honest Trailers -...|     Screen Junkies|          1|screen junkies|sc...|1870380|48211|    1243|         6526|https://i.ytimg.c...|30.09|\n",
      "|-6Zc8Co2H3w|Honest Trailers -...|     Screen Junkies|          1|screen junkies|sc...|1956813|49656|    1287|         6894|https://i.ytimg.c...|01.10|\n",
      "|-AJyaVduxCc|Why Is Ayesha Cur...|   The Real Daytime|         24|the real|daytime|...| 326709| 1705|      60|          273|https://i.ytimg.c...|19.10|\n",
      "|-AJyaVduxCc|Why Is Ayesha Cur...|   The Real Daytime|         24|the real|daytime|...| 313279| 1660|      56|          123|https://i.ytimg.c...|18.10|\n",
      "|-AJyaVduxCc|Why Is Ayesha Cur...|   The Real Daytime|         24|the real|daytime|...| 334715| 1742|      62|          279|https://i.ytimg.c...|20.10|\n",
      "|-B9z3az6Axc|Halloween ASMR: S...|       Tyler Oakley|         24|tyler oakley|tyle...| 211177|16675|     417|         2539|https://i.ytimg.c...|15.10|\n",
      "|-B9z3az6Axc|Halloween ASMR: S...|       Tyler Oakley|         24|tyler oakley|tyle...| 106224|10782|     224|         2154|https://i.ytimg.c...|11.10|\n",
      "|-B9z3az6Axc|Halloween ASMR: S...|       Tyler Oakley|         24|tyler oakley|tyle...| 172671|14632|     359|         2379|https://i.ytimg.c...|12.10|\n",
      "|-B9z3az6Axc|Halloween ASMR: S...|       Tyler Oakley|         24|tyler oakley|tyle...| 192861|15692|     382|         2441|https://i.ytimg.c...|13.10|\n",
      "|-B9z3az6Axc|Halloween ASMR: S...|       Tyler Oakley|         24|tyler oakley|tyle...| 203723|16231|     396|         2515|https://i.ytimg.c...|14.10|\n",
      "|-C-LJUD2LWU|We Keep Voting De...|  The Liberty Hound|         25|watters candace o...|  44865| 2325|      39|          503|https://i.ytimg.c...|27.09|\n",
      "|-C-LJUD2LWU|We Keep Voting De...|  The Liberty Hound|         25|watters candace o...|  45580| 2348|      41|          504|https://i.ytimg.c...|28.09|\n",
      "|-CEuQhqNzz4|Goran Dragic & Lu...|           adamisTV|         17|slovenia|vs|servi...|  69131|  244|      15|          123|https://i.ytimg.c...|19.09|\n",
      "+-----------+--------------------+-------------------+-----------+--------------------+-------+-----+--------+-------------+--------------------+-----+\n",
      "only showing top 20 rows\n",
      "\n"
     ]
    }
   ],
   "source": [
    "videos = spark.read.option('header', 'true').option(\"inferSchema\", \"true\").csv('../datasets/USvideos.csv')\n",
    "videos.orderBy('video_id').show()"
   ]
  },
  {
   "cell_type": "code",
   "execution_count": 3,
   "id": "805005cc-0c92-45e3-ab79-44a348f9c2d3",
   "metadata": {},
   "outputs": [
    {
     "name": "stdout",
     "output_type": "stream",
     "text": [
      "+-----------+--------------------+-----+-------+\n",
      "|   video_id|        comment_text|likes|replies|\n",
      "+-----------+--------------------+-----+-------+\n",
      "|XpVt6Z1Gjjo|Logan Paul it's y...|    4|      0|\n",
      "|XpVt6Z1Gjjo|I've been followi...|    3|      0|\n",
      "|XpVt6Z1Gjjo|Say hi to Kong an...|    3|      0|\n",
      "|XpVt6Z1Gjjo| MY FAN . attendance|    3|      0|\n",
      "|XpVt6Z1Gjjo|         trending 😉|    3|      0|\n",
      "|XpVt6Z1Gjjo|#1 on trending AY...|    3|      0|\n",
      "|XpVt6Z1Gjjo|The end though 😭...|    4|      0|\n",
      "|XpVt6Z1Gjjo|#1 trending!!!!!!!!!|    3|      0|\n",
      "|XpVt6Z1Gjjo|Happy one year vl...|    3|      0|\n",
      "|XpVt6Z1Gjjo|You and your shit...|    0|      0|\n",
      "|XpVt6Z1Gjjo|There should be a...|    0|      0|\n",
      "|XpVt6Z1Gjjo|Dear Logan, I rea...|    0|      0|\n",
      "|XpVt6Z1Gjjo|Honestly Evan is ...|    0|      0|\n",
      "|XpVt6Z1Gjjo|Casey is still be...|    0|      0|\n",
      "|XpVt6Z1Gjjo|aw geez rick this...|    0|      0|\n",
      "|XpVt6Z1Gjjo|He happy cause he...|    0|      0|\n",
      "|XpVt6Z1Gjjo|Ayyyyoooo Logang ...|    1|      0|\n",
      "|XpVt6Z1Gjjo|Bro y didnt u giv...|    0|      0|\n",
      "|XpVt6Z1Gjjo|It's been fun wat...|    3|      0|\n",
      "|XpVt6Z1Gjjo|Made a lot of peo...|    0|      0|\n",
      "+-----------+--------------------+-----+-------+\n",
      "only showing top 20 rows\n",
      "\n"
     ]
    }
   ],
   "source": [
    "comments_schema = StructType([ \\\n",
    "    StructField(\"video_id\", StringType(), True), \\\n",
    "    StructField(\"comment_text\", StringType(), True), \\\n",
    "    StructField(\"likes\", IntegerType(), True), \\\n",
    "    StructField(\"replies\", IntegerType(), True)])\n",
    "comments = spark.read.option('header', 'true').option(\"mode\", \"DROPMALFORMED\").schema(comments_schema).csv('../datasets/UScomments.csv')\n",
    "comments.show()"
   ]
  },
  {
   "cell_type": "markdown",
   "id": "84014dd4-3a24-4340-8aba-a6196f349f07",
   "metadata": {},
   "source": [
    "## Задание 1"
   ]
  },
  {
   "cell_type": "code",
   "execution_count": 99,
   "id": "81fd3192-e191-483e-a82b-870b4972bf2a",
   "metadata": {},
   "outputs": [],
   "source": [
    "# Считаем в датасете с видео количество просмотров, лайков, дизлайков и количества комментариев для каждого видео. \n",
    "# Сразу считаем значение скора по просмотрам как общее кол-во лайков минус общее кол-во дизлайков делить на общее кол-во просмотров (за все даты)\n",
    "\n",
    "videos_gr = videos.groupBy('video_id', 'title', 'channel_title', 'category_id', 'tags', 'thumbnail_link')\\\n",
    "                  .agg(sum('views').alias('views'),\n",
    "                       sum('likes').alias('likes'),\n",
    "                       sum('dislikes').alias('dislikes'),\n",
    "                       sum('comment_total').alias('comment_total'),\n",
    "                       round(((sum('likes') - sum('dislikes')) / sum('views')), 5).alias('score_view')\n",
    "                      )"
   ]
  },
  {
   "cell_type": "code",
   "execution_count": 5,
   "id": "5b271327-cfad-454a-865f-ebc508cc94eb",
   "metadata": {},
   "outputs": [
    {
     "name": "stdout",
     "output_type": "stream",
     "text": [
      "+-----------+--------------------+--------------------+-----------+--------------------+--------------------+--------+------+--------+-------------+----------+\n",
      "|   video_id|               title|       channel_title|category_id|                tags|      thumbnail_link|   views| likes|dislikes|comment_total|score_view|\n",
      "+-----------+--------------------+--------------------+-----------+--------------------+--------------------+--------+------+--------+-------------+----------+\n",
      "|fQxLlq7lxVM|FENTY BEAUTY | FU...|      Shameless Maya|         26|fenty beauty|riha...|https://i.ytimg.c...|  820416| 41338|    1037|        12956|   0.04912|\n",
      "|5eSSL8hRU_E|Kelly Clarkson Ta...|    Z100 is New York|         10|kelly clarkson|lo...|https://i.ytimg.c...|  247255|  1327|      22|          156|   0.00528|\n",
      "|2y7rk7eHHAM|Jennifer Lawrence...|Late Night with S...|         23|Late Night|Seth M...|https://i.ytimg.c...| 4205914| 34210|   12283|         8289|   0.00521|\n",
      "|Q07Cp6tswnQ|The Road to 5,000...|    Marques Brownlee|         28|  MKBHD|5 million|5M|https://i.ytimg.c...| 3742276|183671|    3789|        21578|   0.04807|\n",
      "|nL9bZbv2aXY|Wonder Woman Make...|         Madeyewlook|         26|Halloween|makeup ...|https://i.ytimg.c...|  925031| 56586|     527|         1155|    0.0606|\n",
      "|ZcsE0kjqvAQ|First footage of ...|Sand Cat Sahara Team|         15|Felis margarita m...|https://i.ytimg.c...|  399974|   410|      31|           48|    9.5E-4|\n",
      "|BNRUV3TuExQ|Little Shop of Ho...|       Fathom Events|         24|Little Shop of Ho...|https://i.ytimg.c...|    8440|    43|       0|            4|   0.00509|\n",
      "|25Qq8k7V83g|Sofia Vergara Rev...|Late Night with S...|         23|Late Night|Seth M...|https://i.ytimg.c...|   49407|   679|      13|           86|   0.01348|\n",
      "|IQisUbBljW0|Gila Monster, Bab...|The Late Late Sho...|         24|James Corden|The ...|https://i.ytimg.c...| 2960197| 47746|    1244|         3710|   0.01571|\n",
      "|a5F05Qpi6lM|Meghan McCain Joi...|            The View|         24|Meghan McCain|Joh...|https://i.ytimg.c...| 1046022|  7108|    7330|         9075|   -2.1E-4|\n",
      "|5PJWCe92K1E|Academy Anecdotes...|         TheOdd1sOut|         23|school|stories|ac...|https://i.ytimg.c...| 7048321|362582|    5306|        78216|   0.05069|\n",
      "|ykvX-E1nuag|How to Win Australia|        vlogbrothers|         22|australia|hank green|https://i.ytimg.c...|  350928| 18475|     332|         1757|    0.0517|\n",
      "|nRGz2md8l28|Eggs Baked in Has...|       Gordon Ramsay|         24|Gordon|Gordon Ram...|https://i.ytimg.c...| 7683246|231898|    6241|        23380|   0.02937|\n",
      "|SF-psoWdSpo|An Unfortunate Fo...|            Studio C|         23|BYUtv|BYU tv|BYUt...|https://i.ytimg.c...| 1314479| 49121|     901|         5411|   0.03668|\n",
      "|ebzims_XwpM|Lipstick That Cha...|      IISuperwomanII|         23|iisuperwomanii|ii...|https://i.ytimg.c...| 5261270|407602|    6092|        43388|   0.07631|\n",
      "|H0okA2gPt_Q|Rams vs. 49ers | ...|                 NFL|         17|NFL|Football|offe...|https://i.ytimg.c...| 4744963| 50475|    1861|        11237|   0.01025|\n",
      "|6ErzVDwcla0|Uplifted Alex – E...|           Coca-Cola|         17|              [none]|https://i.ytimg.c...|   30893|   494|      64|           50|   0.01392|\n",
      "|kEUfrSxTQ1s|CHILD GETS HIT WI...|      Chris Goossens|         19|              [none]|https://i.ytimg.c...|  499002|   203|      53|          327|    3.0E-4|\n",
      "|Gv69uNr3Tf4|The Voice 2017 Bl...|           The Voice|         24|the voice|the voi...|https://i.ytimg.c...|11144509|161889|    4522|         8926|   0.01412|\n",
      "|AzNIUMW_G8M|What's Really Bee...|        I Covet Thee|         26|What's Really Bee...|https://i.ytimg.c...|  656388| 36940|     464|        18516|   0.05557|\n",
      "+-----------+--------------------+--------------------+-----------+--------------------+--------------------+--------+------+--------+-------------+----------+\n",
      "only showing top 20 rows\n",
      "\n"
     ]
    }
   ],
   "source": [
    "videos_gr.show()"
   ]
  },
  {
   "cell_type": "code",
   "execution_count": 100,
   "id": "fa87ad05-75c5-4ff1-835e-ffee294f1912",
   "metadata": {},
   "outputs": [],
   "source": [
    "# Считаем в датасете с комментариямидля каждого видео количество лайков и ответов на комментарии. \n",
    "\n",
    "comments_gr = comments.groupBy('video_id').agg(sum('likes').alias('comment_likes'),\n",
    "                                               sum('replies').alias('comment_replies')\n",
    "                                                )"
   ]
  },
  {
   "cell_type": "code",
   "execution_count": null,
   "id": "69b386ad-9083-4215-8d54-e1cd8d04186b",
   "metadata": {},
   "outputs": [],
   "source": [
    "# исходные датасеты были сгруппированы для уменьшения количества строк в каждом перед джойном. дополнительно для оптимизации можно было применить бакетирование"
   ]
  },
  {
   "cell_type": "code",
   "execution_count": 101,
   "id": "25ec7d11-4d45-42ba-971f-6046e691b830",
   "metadata": {},
   "outputs": [],
   "source": [
    "# Объединяем сгруппированные датасеты и считаем значение скоора по комментариям и итоговый скор как произведение скоров по просмотрам и по комментариям,\n",
    "# итоговое значение умножаем на 100000 для наглядности\n",
    "\n",
    "videos_all = videos_gr.join(comments_gr,'video_id', 'left').fillna(0)\\\n",
    "                      .withColumn('score_comment', round(col('comment_likes')/(col('comment_total') + col('comment_replies')), 5))\\\n",
    "                      .withColumn('score', (round(col('score_view')*col('score_comment'), 5) * 100000).cast('int'))"
   ]
  },
  {
   "cell_type": "code",
   "execution_count": 8,
   "id": "952390d6-62f9-4067-bd26-31161ece5f60",
   "metadata": {},
   "outputs": [
    {
     "name": "stdout",
     "output_type": "stream",
     "text": [
      "+-----------+--------------------+--------------------+-----------+--------------------+--------------------+-----+\n",
      "|   video_id|               title|       channel_title|category_id|                tags|      thumbnail_link|score|\n",
      "+-----------+--------------------+--------------------+-----------+--------------------+--------------------+-----+\n",
      "|4yCkkOvIkUI|EXCLUSIVE: Zonniq...|            YBF Chic|         24|              [none]|https://i.ytimg.c...|  154|\n",
      "|7TN09IP5JuI|Terry Crews Hallu...|      First We Feast|         26|First we feast|fw...|https://i.ytimg.c...|    1|\n",
      "|Bo-qp-Zu0OY|Meeting Talking D...|        TouringPlans|         19|talking mickey|ta...|https://i.ytimg.c...| 1536|\n",
      "|JkqTeQHFoBY|Guardians of the ...|          Framestore|          1|marvel|vfx|CG|CGI...|https://i.ytimg.c...| 1701|\n",
      "|K7pQsR8WFSo|Schlieren Imaging...|          Veritasium|         27|veritasium|scienc...|https://i.ytimg.c...|   55|\n",
      "|RE-far-FvRs|PUPPIES FIRST BAT...|          VLOGTOWSKI|         22|vlog|family vlog|...|https://i.ytimg.c...|   20|\n",
      "|TzyraAp3jaY|Martin Scorsese T...|         MasterClass|         27|Martin Scorsese|f...|https://i.ytimg.c...| 3399|\n",
      "|WQjO1mMCPg4|EVERY MCDONALD'S ...|               Smosh|         23|mcdonalds|drive t...|https://i.ytimg.c...|    4|\n",
      "|_r5eTelhpmQ|Darius Rucker - L...|    DariusRuckerVEVO|         10|Darius|Rucker|Lif...|https://i.ytimg.c...| 5669|\n",
      "|aRgTLb5EbiQ| My Mama Wears Timbs|            Ari Fitz|         26|itsarifitz|ari fi...|https://i.ytimg.c...| 9016|\n",
      "|dInwVhRtN4E|Everything Wrong ...|          CinemaSins|          1|LEGO|LEGO Batman|...|https://i.ytimg.c...|    2|\n",
      "|eHq6ZA6uKOg|Strike Back - Mar...|ABC Television Ne...|         24|American Broadcas...|https://i.ytimg.c...|  948|\n",
      "|g_ekn1gjBq0|I Tried That New ...|          Refinery29|         26|refinery29|refine...|https://i.ytimg.c...| 2486|\n",
      "|g_ekn1gjBq0|The Difference Be...|          Refinery29|         26|refinery29|refine...|https://i.ytimg.c...| 1853|\n",
      "|rn5Xgak1zzA|A message to UC B...|                MILO|         22|milo|yiannopoulos...|https://i.ytimg.c...|   13|\n",
      "|xNddRhpx5tA|Everything Wrong ...|          CinemaSins|          1|friday the 13th p...|https://i.ytimg.c...|   11|\n",
      "|xPS7bqBePSs|LÉON - I Believe ...|     ITSLEONLEONVEVO|         10|Columbia|I Believ...|https://i.ytimg.c...|17135|\n",
      "|CAQ2wWVlOuc|Jeff Bezos smashe...|        Tech Insider|         28|Tech Insider|TI|T...|https://i.ytimg.c...| 1547|\n",
      "|G3fZBW_okks|AN INCREDIBLE MOM...|         Nile Wilson|         17|nile wilson|nile ...|https://i.ytimg.c...|  659|\n",
      "|L6KZ6egpKGM|Luke Bryan - Ligh...|       LukeBryanVEVO|         10|Luke Bryan|Luke|n...|https://i.ytimg.c...| 1723|\n",
      "+-----------+--------------------+--------------------+-----------+--------------------+--------------------+-----+\n",
      "only showing top 20 rows\n",
      "\n"
     ]
    }
   ],
   "source": [
    "scored_videos = videos_all.select('video_id', 'title', 'channel_title', 'category_id', 'tags', 'thumbnail_link', 'score')\n",
    "\n",
    "scored_videos.show()"
   ]
  },
  {
   "cell_type": "markdown",
   "id": "92031ee2-8b37-4083-a704-9c86690be9df",
   "metadata": {},
   "source": [
    "## Задание 2"
   ]
  },
  {
   "cell_type": "code",
   "execution_count": 102,
   "id": "49279feb-fabf-4214-8e0b-082fad870b31",
   "metadata": {},
   "outputs": [],
   "source": [
    "# Читаем json\n",
    "\n",
    "categories = spark.read.format('json').option('multiline', 'true').load('../datasets/US_category_id.json').select(inline_outer('items'))"
   ]
  },
  {
   "cell_type": "code",
   "execution_count": 103,
   "id": "0b82db6c-a875-442d-ad13-005139bc6153",
   "metadata": {},
   "outputs": [],
   "source": [
    "# Вытаскиваем id категории и название\n",
    "\n",
    "categories = categories.select(categories.id.alias('category_id'), categories.snippet.title.alias('title'))"
   ]
  },
  {
   "cell_type": "code",
   "execution_count": 11,
   "id": "09b36034-07ac-41ef-989a-a89249368ea4",
   "metadata": {},
   "outputs": [
    {
     "name": "stdout",
     "output_type": "stream",
     "text": [
      "+-----------+--------------------+\n",
      "|category_id|               title|\n",
      "+-----------+--------------------+\n",
      "|          1|    Film & Animation|\n",
      "|          2|    Autos & Vehicles|\n",
      "|         10|               Music|\n",
      "|         15|      Pets & Animals|\n",
      "|         17|              Sports|\n",
      "|         18|        Short Movies|\n",
      "|         19|     Travel & Events|\n",
      "|         20|              Gaming|\n",
      "|         21|       Videoblogging|\n",
      "|         22|      People & Blogs|\n",
      "|         23|              Comedy|\n",
      "|         24|       Entertainment|\n",
      "|         25|     News & Politics|\n",
      "|         26|       Howto & Style|\n",
      "|         27|           Education|\n",
      "|         28|Science & Technology|\n",
      "|         29|Nonprofits & Acti...|\n",
      "|         30|              Movies|\n",
      "|         31|     Anime/Animation|\n",
      "|         32|    Action/Adventure|\n",
      "+-----------+--------------------+\n",
      "only showing top 20 rows\n",
      "\n"
     ]
    }
   ],
   "source": [
    "categories.show()"
   ]
  },
  {
   "cell_type": "code",
   "execution_count": 114,
   "id": "03800e00-4f95-422a-b227-51f5b333e749",
   "metadata": {},
   "outputs": [],
   "source": [
    "# UDF-функция для вычисления медианы. На вход получает сгруппированный датафрейм\n",
    "\n",
    "@pandas_udf('category_id int, score int', PandasUDFType.GROUPED_MAP)\n",
    "def compute_median(pdf):\n",
    "    return pdf.assign(score = pdf.score.median())"
   ]
  },
  {
   "cell_type": "code",
   "execution_count": 118,
   "id": "7ac247a4-7dde-4e17-abbe-e787a83c76bb",
   "metadata": {},
   "outputs": [],
   "source": [
    "# Применяем функцию к датафрейму\n",
    "\n",
    "scored_categories = scored_videos.select('category_id', 'score').groupBy('category_id').apply(compute_median).dropDuplicates().withColumnRenamed('score', 'median_score')"
   ]
  },
  {
   "cell_type": "code",
   "execution_count": 116,
   "id": "bb92fd7c-3c06-421e-aec4-a51f24753292",
   "metadata": {},
   "outputs": [
    {
     "name": "stdout",
     "output_type": "stream",
     "text": [
      "+-----------+------------+\n",
      "|category_id|median_score|\n",
      "+-----------+------------+\n",
      "|         17|          89|\n",
      "|          1|         227|\n",
      "|         25|          27|\n",
      "|         23|          38|\n",
      "|         26|         300|\n",
      "|         22|         101|\n",
      "|         19|         172|\n",
      "|          2|         150|\n",
      "|         20|          43|\n",
      "|         28|          91|\n",
      "|         29|        1246|\n",
      "|         27|         219|\n",
      "|         43|        1494|\n",
      "|         15|         304|\n",
      "|         24|          93|\n",
      "|         10|         183|\n",
      "+-----------+------------+\n",
      "\n"
     ]
    }
   ],
   "source": [
    "scored_categories.show()"
   ]
  },
  {
   "cell_type": "code",
   "execution_count": 120,
   "id": "3d61d048-a735-4fb2-8a34-2bd4553ff847",
   "metadata": {},
   "outputs": [],
   "source": [
    "# Приджойниваем названия категорий. Т.к. датасет с названиями маленький, то присоединяем его броадкастом.\n",
    "\n",
    "scored_categories = scored_categories.join(broadcast(categories), 'category_id', 'inner').select('title', 'median_score')"
   ]
  },
  {
   "cell_type": "code",
   "execution_count": 121,
   "id": "7e91ce7c-2994-44ca-abb6-fcaf0ca760c2",
   "metadata": {},
   "outputs": [
    {
     "name": "stdout",
     "output_type": "stream",
     "text": [
      "+---------------------+------------+\n",
      "|title                |median_score|\n",
      "+---------------------+------------+\n",
      "|Shows                |1494        |\n",
      "|Nonprofits & Activism|1246        |\n",
      "|Pets & Animals       |304         |\n",
      "|Howto & Style        |300         |\n",
      "|Film & Animation     |227         |\n",
      "|Education            |219         |\n",
      "|Music                |183         |\n",
      "|Travel & Events      |172         |\n",
      "|Autos & Vehicles     |150         |\n",
      "|People & Blogs       |101         |\n",
      "|Entertainment        |93          |\n",
      "|Science & Technology |91          |\n",
      "|Sports               |89          |\n",
      "|Gaming               |43          |\n",
      "|Comedy               |38          |\n",
      "|News & Politics      |27          |\n",
      "+---------------------+------------+\n",
      "\n"
     ]
    }
   ],
   "source": [
    "scored_categories.orderBy(desc('median_score')).show(truncate=False)"
   ]
  },
  {
   "cell_type": "markdown",
   "id": "625acbda-f5a4-4eee-a50b-c8573d8818e8",
   "metadata": {},
   "source": [
    "## Задание 3"
   ]
  },
  {
   "cell_type": "code",
   "execution_count": 78,
   "id": "129da739-70b8-4bad-9820-e451f0398df9",
   "metadata": {},
   "outputs": [],
   "source": [
    "import pandas as pd\n",
    "import timeit"
   ]
  },
  {
   "cell_type": "code",
   "execution_count": 128,
   "id": "c7e8c2e5-08aa-4205-98e0-7edc19ff61fd",
   "metadata": {},
   "outputs": [
    {
     "name": "stdout",
     "output_type": "stream",
     "text": [
      "Время выполнения UDF на Scala: 0.08486641698982567 сек\n"
     ]
    }
   ],
   "source": [
    "# UDF-функция для разбиения колонки с тэгами на Scala\n",
    "\n",
    "from pyspark.sql.column import Column, _to_java_column, _to_seq\n",
    "\n",
    "sc = spark.sparkContext\n",
    "\n",
    "def udfSplitTagsScalaWraper(tags):\n",
    "    _udf = sc._jvm.CustomUDFs.splitTagsUDF()\n",
    "    return Column(_udf.apply(_to_seq(sc, [tags], _to_java_column)))\n",
    "\n",
    "splited_tags = videos.select('tags', udfSplitTagsScalaWraper(col('tags')).alias('tags'))\n",
    "\n",
    "print(f\"Время выполнения UDF на Scala: {timeit.timeit('splited_tags.count()', number=1, globals=globals())} сек\")"
   ]
  },
  {
   "cell_type": "code",
   "execution_count": 127,
   "id": "1c383dbf-fc6b-4941-a0d3-c55e818bcaa9",
   "metadata": {},
   "outputs": [
    {
     "name": "stdout",
     "output_type": "stream",
     "text": [
      "Время выполнения UDF на Python: 0.05377666593994945  сек\n"
     ]
    }
   ],
   "source": [
    "# UDF-функция для разбиения колонки с тэгами на Python\n",
    "\n",
    "@pandas_udf(ArrayType(StringType()), PandasUDFType.SCALAR)\n",
    "def split_tags(tags):\n",
    "    return tags.str.split('|')\n",
    "\n",
    "splited_tags = videos.select(split_tags('tags').alias('tags'))\n",
    "\n",
    "print(f\"Время выполнения UDF на Python: {timeit.timeit('splited_tags.count()', number=1, globals=globals())}  сек\")"
   ]
  },
  {
   "cell_type": "code",
   "execution_count": 129,
   "id": "1b5a41e8-34d7-41bd-be50-65d50960fdda",
   "metadata": {},
   "outputs": [],
   "source": [
    "# Применияем UDF-функцию для разбиения колонки с тэгами, для каждого тэга создаём отдельную запись\n",
    "\n",
    "videos_tags = videos.select('video_id', explode_outer(split_tags('tags')).alias('tags'))"
   ]
  },
  {
   "cell_type": "code",
   "execution_count": 130,
   "id": "44f03236-6675-4441-995e-0e6a623fe6a4",
   "metadata": {},
   "outputs": [
    {
     "name": "stdout",
     "output_type": "stream",
     "text": [
      "+-----------+----------+\n",
      "|       tags|sum_videos|\n",
      "+-----------+----------+\n",
      "|      funny|       217|\n",
      "|     comedy|       163|\n",
      "|     [none]|       146|\n",
      "|       2017|        93|\n",
      "|      humor|        92|\n",
      "|     how to|        84|\n",
      "|     makeup|        77|\n",
      "|      music|        74|\n",
      "|       vlog|        73|\n",
      "|      video|        72|\n",
      "|  interview|        70|\n",
      "|   tutorial|        69|\n",
      "|  celebrity|        64|\n",
      "|     review|        61|\n",
      "|       news|        61|\n",
      "|celebrities|        59|\n",
      "|     beauty|        58|\n",
      "|       food|        57|\n",
      "|    science|        56|\n",
      "|   comedian|        55|\n",
      "+-----------+----------+\n",
      "only showing top 20 rows\n",
      "\n"
     ]
    }
   ],
   "source": [
    "# Считаем количество уникальных видео для каждого тэга, выводим результат в порядке убывания популярности тэгов\n",
    "\n",
    "popular_tags = videos_tags.distinct().groupBy('tags').agg(count('video_id').alias('sum_videos')).orderBy(col('sum_videos').desc()).show()"
   ]
  },
  {
   "cell_type": "markdown",
   "id": "e2fee8df-7859-4911-be70-37602e59ae7d",
   "metadata": {},
   "source": [
    "## Задание 4"
   ]
  },
  {
   "cell_type": "code",
   "execution_count": 131,
   "id": "591c829c-421b-4800-aee8-5235d71a346d",
   "metadata": {},
   "outputs": [],
   "source": [
    "# Фильтруем датасет с видео по тэгу cat через регулярное выражение (выбираем в данном случае только отдельно стоящий регистрозависимый тэг \"cat\"), убираем дубликаты\n",
    "\n",
    "video_cats = videos.filter(regexp_extract('tags', r'\\|cat\\|', 0) != '').select('video_id').distinct()"
   ]
  },
  {
   "cell_type": "code",
   "execution_count": 132,
   "id": "0941fd23-2783-4dda-8896-85060206044c",
   "metadata": {},
   "outputs": [],
   "source": [
    "# К отфильтрованному датасету с видео джойним датасет с комментариями (как и в первом задании датасеты заранее можно было бы подвергнуть бакетированию)\n",
    "# группируем по видео и комментариям, считаем количество лайков, сортируем и выводим 5 комменариев с самым большим количеством лайков\n",
    "\n",
    "top_5_comments = video_cats.join(comments, 'video_id', 'inner')\\\n",
    "                           .groupBy('video_id', 'comment_text')\\\n",
    "                           .agg(sum('likes').alias('likes'),\n",
    "                                sum('replies').alias('replies'))\\\n",
    "                           .orderBy(desc('likes'))\\\n",
    "                           .limit(5)"
   ]
  },
  {
   "cell_type": "code",
   "execution_count": 98,
   "id": "4a0a2698-06de-48e6-a4f1-7af7fc19ba63",
   "metadata": {},
   "outputs": [
    {
     "name": "stdout",
     "output_type": "stream",
     "text": [
      "+-----------+------------------------------------------------------------------------------------------------------+-----+-------+\n",
      "|video_id   |comment_text                                                                                          |likes|replies|\n",
      "+-----------+------------------------------------------------------------------------------------------------------+-----+-------+\n",
      "|tp9aQXDFHbY|Make sure to check back next Friday as we are launching our brand new animated HALLOWEEN special! 🐱🕷|1329 |162    |\n",
      "|-1fzGnFwz9M|I make interesting cartoons and I need your help! Go to the channel, rate my work!                    |839  |5      |\n",
      "|tp9aQXDFHbY|1:51 so your nuts are your most prized possession?                                                    |121  |8      |\n",
      "|Vjc459T6wX8|How does Mugumogu not collapse in a heap of laughter?!! Maru's liquified form is hilarious!           |50   |7      |\n",
      "|tp9aQXDFHbY|If Simon will be make animation movie of Simons Cat adventures, I’ll go cinemas to watch it 😻        |37   |1      |\n",
      "+-----------+------------------------------------------------------------------------------------------------------+-----+-------+\n",
      "\n"
     ]
    }
   ],
   "source": [
    "top_5_comments.show(truncate=False)"
   ]
  },
  {
   "cell_type": "code",
   "execution_count": 133,
   "id": "7abfe5f9-5666-4396-bae2-b95a89c51b57",
   "metadata": {},
   "outputs": [],
   "source": [
    "spark.stop()"
   ]
  },
  {
   "cell_type": "code",
   "execution_count": null,
   "id": "934e450d-1cff-47e9-bc40-7c227ba12f7d",
   "metadata": {},
   "outputs": [],
   "source": []
  }
 ],
 "metadata": {
  "kernelspec": {
   "display_name": "Python 3 (ipykernel)",
   "language": "python",
   "name": "python3"
  },
  "language_info": {
   "codemirror_mode": {
    "name": "ipython",
    "version": 3
   },
   "file_extension": ".py",
   "mimetype": "text/x-python",
   "name": "python",
   "nbconvert_exporter": "python",
   "pygments_lexer": "ipython3",
   "version": "3.11.3"
  }
 },
 "nbformat": 4,
 "nbformat_minor": 5
}
